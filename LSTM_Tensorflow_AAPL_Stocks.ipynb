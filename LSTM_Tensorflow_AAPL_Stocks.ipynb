{
 "cells": [
  {
   "cell_type": "markdown",
   "metadata": {},
   "source": [
    "### Step 1 : Importing Libraries"
   ]
  },
  {
   "cell_type": "code",
   "execution_count": 42,
   "metadata": {},
   "outputs": [],
   "source": [
    "import tensorflow as tf\n",
    "import yfinance as yf\n",
    "import pandas as pd\n",
    "import numpy as np\n",
    "import keras\n",
    "import matplotlib.pyplot as ptl"
   ]
  },
  {
   "cell_type": "code",
   "execution_count": 43,
   "metadata": {},
   "outputs": [
    {
     "data": {
      "text/plain": [
       "'2.15.0'"
      ]
     },
     "execution_count": 43,
     "metadata": {},
     "output_type": "execute_result"
    }
   ],
   "source": [
    "tf.__version__"
   ]
  },
  {
   "cell_type": "markdown",
   "metadata": {},
   "source": [
    "### Steep 2 : Downloading data through yfinance, i.e. Yahoo Finance\n",
    "###### To analyze AAPL stocks patterns, we need historical stock price data. Here's where yfinance comes into play. This library is designed to fetch historical data from Yahoo Finance."
   ]
  },
  {
   "cell_type": "code",
   "execution_count": 44,
   "metadata": {},
   "outputs": [
    {
     "name": "stderr",
     "output_type": "stream",
     "text": [
      "[*********************100%%**********************]  1 of 1 completed\n"
     ]
    },
    {
     "data": {
      "text/html": [
       "<div>\n",
       "<style scoped>\n",
       "    .dataframe tbody tr th:only-of-type {\n",
       "        vertical-align: middle;\n",
       "    }\n",
       "\n",
       "    .dataframe tbody tr th {\n",
       "        vertical-align: top;\n",
       "    }\n",
       "\n",
       "    .dataframe thead th {\n",
       "        text-align: right;\n",
       "    }\n",
       "</style>\n",
       "<table border=\"1\" class=\"dataframe\">\n",
       "  <thead>\n",
       "    <tr style=\"text-align: right;\">\n",
       "      <th></th>\n",
       "      <th>Open</th>\n",
       "      <th>High</th>\n",
       "      <th>Low</th>\n",
       "      <th>Close</th>\n",
       "      <th>Adj Close</th>\n",
       "      <th>Volume</th>\n",
       "    </tr>\n",
       "    <tr>\n",
       "      <th>Date</th>\n",
       "      <th></th>\n",
       "      <th></th>\n",
       "      <th></th>\n",
       "      <th></th>\n",
       "      <th></th>\n",
       "      <th></th>\n",
       "    </tr>\n",
       "  </thead>\n",
       "  <tbody>\n",
       "    <tr>\n",
       "      <th>2020-01-02</th>\n",
       "      <td>74.059998</td>\n",
       "      <td>75.150002</td>\n",
       "      <td>73.797501</td>\n",
       "      <td>75.087502</td>\n",
       "      <td>72.960457</td>\n",
       "      <td>135480400</td>\n",
       "    </tr>\n",
       "    <tr>\n",
       "      <th>2020-01-03</th>\n",
       "      <td>74.287498</td>\n",
       "      <td>75.144997</td>\n",
       "      <td>74.125000</td>\n",
       "      <td>74.357498</td>\n",
       "      <td>72.251152</td>\n",
       "      <td>146322800</td>\n",
       "    </tr>\n",
       "    <tr>\n",
       "      <th>2020-01-06</th>\n",
       "      <td>73.447502</td>\n",
       "      <td>74.989998</td>\n",
       "      <td>73.187500</td>\n",
       "      <td>74.949997</td>\n",
       "      <td>72.826828</td>\n",
       "      <td>118387200</td>\n",
       "    </tr>\n",
       "    <tr>\n",
       "      <th>2020-01-07</th>\n",
       "      <td>74.959999</td>\n",
       "      <td>75.224998</td>\n",
       "      <td>74.370003</td>\n",
       "      <td>74.597504</td>\n",
       "      <td>72.484344</td>\n",
       "      <td>108872000</td>\n",
       "    </tr>\n",
       "    <tr>\n",
       "      <th>2020-01-08</th>\n",
       "      <td>74.290001</td>\n",
       "      <td>76.110001</td>\n",
       "      <td>74.290001</td>\n",
       "      <td>75.797501</td>\n",
       "      <td>73.650360</td>\n",
       "      <td>132079200</td>\n",
       "    </tr>\n",
       "  </tbody>\n",
       "</table>\n",
       "</div>"
      ],
      "text/plain": [
       "                 Open       High        Low      Close  Adj Close     Volume\n",
       "Date                                                                        \n",
       "2020-01-02  74.059998  75.150002  73.797501  75.087502  72.960457  135480400\n",
       "2020-01-03  74.287498  75.144997  74.125000  74.357498  72.251152  146322800\n",
       "2020-01-06  73.447502  74.989998  73.187500  74.949997  72.826828  118387200\n",
       "2020-01-07  74.959999  75.224998  74.370003  74.597504  72.484344  108872000\n",
       "2020-01-08  74.290001  76.110001  74.290001  75.797501  73.650360  132079200"
      ]
     },
     "execution_count": 44,
     "metadata": {},
     "output_type": "execute_result"
    }
   ],
   "source": [
    "# Fetch AAPL data\n",
    "aapl_data = yf.download('AAPL', start='2020-01-01', end='2024-06-15')\n",
    "\n",
    "# Display the first few rows of the dataframe\n",
    "aapl_data.head()"
   ]
  },
  {
   "cell_type": "markdown",
   "metadata": {},
   "source": [
    "##### This script fetches the daily stock prices of Apple Inc. from January 1, 2020, to June 7, 2024."
   ]
  },
  {
   "cell_type": "code",
   "execution_count": 45,
   "metadata": {},
   "outputs": [
    {
     "data": {
      "text/html": [
       "<div>\n",
       "<style scoped>\n",
       "    .dataframe tbody tr th:only-of-type {\n",
       "        vertical-align: middle;\n",
       "    }\n",
       "\n",
       "    .dataframe tbody tr th {\n",
       "        vertical-align: top;\n",
       "    }\n",
       "\n",
       "    .dataframe thead th {\n",
       "        text-align: right;\n",
       "    }\n",
       "</style>\n",
       "<table border=\"1\" class=\"dataframe\">\n",
       "  <thead>\n",
       "    <tr style=\"text-align: right;\">\n",
       "      <th></th>\n",
       "      <th>Open</th>\n",
       "      <th>High</th>\n",
       "      <th>Low</th>\n",
       "      <th>Close</th>\n",
       "      <th>Adj Close</th>\n",
       "      <th>Volume</th>\n",
       "    </tr>\n",
       "    <tr>\n",
       "      <th>Date</th>\n",
       "      <th></th>\n",
       "      <th></th>\n",
       "      <th></th>\n",
       "      <th></th>\n",
       "      <th></th>\n",
       "      <th></th>\n",
       "    </tr>\n",
       "  </thead>\n",
       "  <tbody>\n",
       "    <tr>\n",
       "      <th>2020-01-02</th>\n",
       "      <td>74.059998</td>\n",
       "      <td>75.150002</td>\n",
       "      <td>73.797501</td>\n",
       "      <td>75.087502</td>\n",
       "      <td>72.960457</td>\n",
       "      <td>135480400</td>\n",
       "    </tr>\n",
       "    <tr>\n",
       "      <th>2020-01-03</th>\n",
       "      <td>74.287498</td>\n",
       "      <td>75.144997</td>\n",
       "      <td>74.125000</td>\n",
       "      <td>74.357498</td>\n",
       "      <td>72.251152</td>\n",
       "      <td>146322800</td>\n",
       "    </tr>\n",
       "    <tr>\n",
       "      <th>2020-01-06</th>\n",
       "      <td>73.447502</td>\n",
       "      <td>74.989998</td>\n",
       "      <td>73.187500</td>\n",
       "      <td>74.949997</td>\n",
       "      <td>72.826828</td>\n",
       "      <td>118387200</td>\n",
       "    </tr>\n",
       "    <tr>\n",
       "      <th>2020-01-07</th>\n",
       "      <td>74.959999</td>\n",
       "      <td>75.224998</td>\n",
       "      <td>74.370003</td>\n",
       "      <td>74.597504</td>\n",
       "      <td>72.484344</td>\n",
       "      <td>108872000</td>\n",
       "    </tr>\n",
       "    <tr>\n",
       "      <th>2020-01-08</th>\n",
       "      <td>74.290001</td>\n",
       "      <td>76.110001</td>\n",
       "      <td>74.290001</td>\n",
       "      <td>75.797501</td>\n",
       "      <td>73.650360</td>\n",
       "      <td>132079200</td>\n",
       "    </tr>\n",
       "    <tr>\n",
       "      <th>...</th>\n",
       "      <td>...</td>\n",
       "      <td>...</td>\n",
       "      <td>...</td>\n",
       "      <td>...</td>\n",
       "      <td>...</td>\n",
       "      <td>...</td>\n",
       "    </tr>\n",
       "    <tr>\n",
       "      <th>2024-06-05</th>\n",
       "      <td>195.399994</td>\n",
       "      <td>196.899994</td>\n",
       "      <td>194.869995</td>\n",
       "      <td>195.869995</td>\n",
       "      <td>195.869995</td>\n",
       "      <td>54156800</td>\n",
       "    </tr>\n",
       "    <tr>\n",
       "      <th>2024-06-06</th>\n",
       "      <td>195.690002</td>\n",
       "      <td>196.500000</td>\n",
       "      <td>194.169998</td>\n",
       "      <td>194.479996</td>\n",
       "      <td>194.479996</td>\n",
       "      <td>41181800</td>\n",
       "    </tr>\n",
       "    <tr>\n",
       "      <th>2024-06-07</th>\n",
       "      <td>194.649994</td>\n",
       "      <td>196.940002</td>\n",
       "      <td>194.139999</td>\n",
       "      <td>196.889999</td>\n",
       "      <td>196.889999</td>\n",
       "      <td>53103900</td>\n",
       "    </tr>\n",
       "    <tr>\n",
       "      <th>2024-06-10</th>\n",
       "      <td>196.899994</td>\n",
       "      <td>197.300003</td>\n",
       "      <td>192.149994</td>\n",
       "      <td>193.119995</td>\n",
       "      <td>193.119995</td>\n",
       "      <td>97262100</td>\n",
       "    </tr>\n",
       "    <tr>\n",
       "      <th>2024-06-11</th>\n",
       "      <td>193.660004</td>\n",
       "      <td>207.160004</td>\n",
       "      <td>193.639999</td>\n",
       "      <td>207.149994</td>\n",
       "      <td>207.149994</td>\n",
       "      <td>168874733</td>\n",
       "    </tr>\n",
       "  </tbody>\n",
       "</table>\n",
       "<p>1118 rows × 6 columns</p>\n",
       "</div>"
      ],
      "text/plain": [
       "                  Open        High         Low       Close   Adj Close  \\\n",
       "Date                                                                     \n",
       "2020-01-02   74.059998   75.150002   73.797501   75.087502   72.960457   \n",
       "2020-01-03   74.287498   75.144997   74.125000   74.357498   72.251152   \n",
       "2020-01-06   73.447502   74.989998   73.187500   74.949997   72.826828   \n",
       "2020-01-07   74.959999   75.224998   74.370003   74.597504   72.484344   \n",
       "2020-01-08   74.290001   76.110001   74.290001   75.797501   73.650360   \n",
       "...                ...         ...         ...         ...         ...   \n",
       "2024-06-05  195.399994  196.899994  194.869995  195.869995  195.869995   \n",
       "2024-06-06  195.690002  196.500000  194.169998  194.479996  194.479996   \n",
       "2024-06-07  194.649994  196.940002  194.139999  196.889999  196.889999   \n",
       "2024-06-10  196.899994  197.300003  192.149994  193.119995  193.119995   \n",
       "2024-06-11  193.660004  207.160004  193.639999  207.149994  207.149994   \n",
       "\n",
       "               Volume  \n",
       "Date                   \n",
       "2020-01-02  135480400  \n",
       "2020-01-03  146322800  \n",
       "2020-01-06  118387200  \n",
       "2020-01-07  108872000  \n",
       "2020-01-08  132079200  \n",
       "...               ...  \n",
       "2024-06-05   54156800  \n",
       "2024-06-06   41181800  \n",
       "2024-06-07   53103900  \n",
       "2024-06-10   97262100  \n",
       "2024-06-11  168874733  \n",
       "\n",
       "[1118 rows x 6 columns]"
      ]
     },
     "execution_count": 45,
     "metadata": {},
     "output_type": "execute_result"
    }
   ],
   "source": [
    "aapl_data"
   ]
  },
  {
   "cell_type": "markdown",
   "metadata": {},
   "source": [
    "### Step 3 : Data Preprocessing and Preparation"
   ]
  },
  {
   "cell_type": "markdown",
   "metadata": {},
   "source": [
    "#### Data Cleaning\n",
    "###### - Identifying Missing Values\n",
    "###### - Handling Naomalies"
   ]
  },
  {
   "cell_type": "code",
   "execution_count": 46,
   "metadata": {},
   "outputs": [],
   "source": [
    "# Checking for missing values\n",
    "aapl_data.isnull().sum()\n",
    "\n",
    "# Filling missing values, if any\n",
    "aapl_data.fillna(method='ffill', inplace=True)"
   ]
  },
  {
   "cell_type": "markdown",
   "metadata": {},
   "source": [
    "#### Feature Selection\n",
    "##### In stock market data, various features can be influential. Typically, ‘Open’, ‘High’, ‘Low’, ‘Close’, and ‘Volume’ are used."
   ]
  },
  {
   "cell_type": "markdown",
   "metadata": {},
   "source": [
    "#### Normalization"
   ]
  },
  {
   "cell_type": "code",
   "execution_count": 47,
   "metadata": {},
   "outputs": [],
   "source": [
    "from sklearn.preprocessing import MinMaxScaler\n",
    "\n",
    "scaler=MinMaxScaler(feature_range=(0, 1))\n",
    "aapl_data_scaled=scaler.fit_transform(aapl_data['Close'].values.reshape(-1, 1))"
   ]
  },
  {
   "cell_type": "markdown",
   "metadata": {},
   "source": [
    "#### Creating Sequences\n",
    "##### LSTM models require input to be in a sequence format. We transform the data into sequences for the model to learn from."
   ]
  },
  {
   "cell_type": "markdown",
   "metadata": {},
   "source": [
    "##### Defining Sequence Length: Choose a sequence length (like 60 days). This means, for every sample, the model will look at the last 60 days of data to make a prediction."
   ]
  },
  {
   "cell_type": "code",
   "execution_count": 48,
   "metadata": {},
   "outputs": [],
   "source": [
    "X=[]\n",
    "y=[]\n",
    "\n",
    "for i in range(60, len(aapl_data_scaled)):\n",
    "    X.append(aapl_data_scaled[i-60:i, 0])\n",
    "    y.append(aapl_data_scaled[i ,0])"
   ]
  },
  {
   "cell_type": "markdown",
   "metadata": {},
   "source": [
    "#### Train-Test Split"
   ]
  },
  {
   "cell_type": "code",
   "execution_count": 49,
   "metadata": {},
   "outputs": [],
   "source": [
    "# Here, we take 80% of data is used for training and 20% for testing.\n",
    "\n",
    "from sklearn.model_selection import train_test_split\n",
    "X_train, X_test, y_train, y_test = train_test_split(X, y, test_size = 0.2, random_state = 0)"
   ]
  },
  {
   "cell_type": "markdown",
   "metadata": {},
   "source": [
    "#### Reshaping data for LSTM\n",
    "##### Finally, we need to reshape our data into a 3D format [samples, time steps, features] required by LSTM layers. 3D dimension or new dimeension is (num_samples, time_steps, features) which was earlier (num_samples, time_steps)"
   ]
  },
  {
   "cell_type": "code",
   "execution_count": 50,
   "metadata": {},
   "outputs": [],
   "source": [
    "X_train, y_train = np.array(X_train), np.array(y_train)\n",
    "X_train = np.reshape(X_train, (X_train.shape[0], X_train.shape[1], 1))"
   ]
  },
  {
   "cell_type": "markdown",
   "metadata": {},
   "source": [
    "### Step 4 : Building the LSTM with Attention model"
   ]
  },
  {
   "cell_type": "markdown",
   "metadata": {},
   "source": [
    "#### The construction of our LSTM model with an added attention mechanism, tailored for predicting AAPL stock patterns."
   ]
  },
  {
   "cell_type": "markdown",
   "metadata": {},
   "source": [
    "#### Creating LSTM Layers"
   ]
  },
  {
   "cell_type": "markdown",
   "metadata": {},
   "source": [
    "##### Our LSTM model will consist of several layers, including LSTM layers for processing the time-series data. The basic structure is as follows:"
   ]
  },
  {
   "cell_type": "code",
   "execution_count": 51,
   "metadata": {},
   "outputs": [],
   "source": [
    "from keras.models import Sequential\n",
    "from keras.layers import LSTM, Dense, Dropout, AdditiveAttention, Permute, Reshape, Multiply\n",
    "\n",
    "model = Sequential()\n",
    "\n",
    "# Adding LSTM layers with return_sequences=True\n",
    "model.add(LSTM(units=50, return_sequences=True, input_shape=(X_train.shape[1], 1)))\n",
    "model.add(LSTM(units=50, return_sequences=True))\n",
    "\n",
    "# units represent the number of neurons in each LSTM layer\n",
    "# return_sequences=True is crucial in the first layers to ensure the output includes sequences, which are essential for stacking \n",
    "# LSTM layers. The final LSTM layer does not return sequences as we prepare the data for the attention layer."
   ]
  },
  {
   "cell_type": "markdown",
   "metadata": {},
   "source": [
    "##### Integrating the Attention Mechanism\n",
    "###### The attention mechanism can be added to enhance the model’s ability to focus on relevant time steps:"
   ]
  },
  {
   "cell_type": "code",
   "execution_count": 52,
   "metadata": {},
   "outputs": [],
   "source": [
    "# Adding self-attention mechanism\n",
    "# The attention mechanism\n",
    "attention=AdditiveAttention(name='attention_weight')\n",
    "\n",
    "# Permute and shape for compatibility\n",
    "model.add(Permute((2, 1)))\n",
    "model.add(Reshape((-1, X_train.shape[1])))\n",
    "attention_result=attention([model.output, model.output])\n",
    "multiply_layer=Multiply()([model.output, attention_result])\n",
    "\n",
    "# Return to original shape\n",
    "model.add(Permute((2, 1)))\n",
    "model.add(Reshape((-1, 50)))\n",
    "\n",
    "# Adding a Flatten layer before the final dense layer\n",
    "model.add(tf.keras.layers.Flatten())\n",
    "\n",
    "# Final Dense Layer\n",
    "model.add(Dense(1))"
   ]
  },
  {
   "cell_type": "markdown",
   "metadata": {},
   "source": [
    "###### This custom layer computes a weighted sum of the input sequence, allowing the model to pay more attention to certain time steps."
   ]
  },
  {
   "cell_type": "markdown",
   "metadata": {},
   "source": [
    "##### Optimizing the model\n",
    "###### To enhance the model’s performance and reduce the risk of overfitting, we include Dropout and Batch Normalization."
   ]
  },
  {
   "cell_type": "code",
   "execution_count": 53,
   "metadata": {},
   "outputs": [],
   "source": [
    "from keras.layers import BatchNormalization\n",
    "\n",
    "# Adding Dropout and Batch Normalization\n",
    "model.add(Dropout(0.2))\n",
    "model.add(BatchNormalization())"
   ]
  },
  {
   "cell_type": "markdown",
   "metadata": {},
   "source": [
    "###### Dropout helps in preventing overfitting by randomly setting a fraction of the input units to 0 at each update during training, and Batch Normalization stabilizes the learning process."
   ]
  },
  {
   "cell_type": "markdown",
   "metadata": {},
   "source": [
    "##### Model Compilation"
   ]
  },
  {
   "cell_type": "code",
   "execution_count": 54,
   "metadata": {},
   "outputs": [],
   "source": [
    "# Compile the model with an optimizer and loss function suited for our regression task. \n",
    "\n",
    "model.compile(optimizer='adam', loss='mean_squared_error')"
   ]
  },
  {
   "cell_type": "markdown",
   "metadata": {},
   "source": [
    "###### adam optimizer is generally a good choice for recurrent neural networks, and mean squared error works well as a loss function for regression tasks like ours."
   ]
  },
  {
   "cell_type": "markdown",
   "metadata": {},
   "source": [
    "##### Model Summary"
   ]
  },
  {
   "cell_type": "code",
   "execution_count": 55,
   "metadata": {},
   "outputs": [
    {
     "name": "stdout",
     "output_type": "stream",
     "text": [
      "Model: \"sequential_1\"\n",
      "_________________________________________________________________\n",
      " Layer (type)                Output Shape              Param #   \n",
      "=================================================================\n",
      " lstm_2 (LSTM)               (None, 60, 50)            10400     \n",
      "                                                                 \n",
      " lstm_3 (LSTM)               (None, 60, 50)            20200     \n",
      "                                                                 \n",
      " permute_2 (Permute)         (None, 50, 60)            0         \n",
      "                                                                 \n",
      " reshape_2 (Reshape)         (None, 50, 60)            0         \n",
      "                                                                 \n",
      " permute_3 (Permute)         (None, 60, 50)            0         \n",
      "                                                                 \n",
      " reshape_3 (Reshape)         (None, 60, 50)            0         \n",
      "                                                                 \n",
      " flatten_1 (Flatten)         (None, 3000)              0         \n",
      "                                                                 \n",
      " dense_1 (Dense)             (None, 1)                 3001      \n",
      "                                                                 \n",
      " dropout_1 (Dropout)         (None, 1)                 0         \n",
      "                                                                 \n",
      " batch_normalization_1 (Bat  (None, 1)                 4         \n",
      " chNormalization)                                                \n",
      "                                                                 \n",
      "=================================================================\n",
      "Total params: 33605 (131.27 KB)\n",
      "Trainable params: 33603 (131.26 KB)\n",
      "Non-trainable params: 2 (8.00 Byte)\n",
      "_________________________________________________________________\n"
     ]
    }
   ],
   "source": [
    "model.summary()"
   ]
  },
  {
   "cell_type": "markdown",
   "metadata": {},
   "source": [
    "#### Training Code"
   ]
  },
  {
   "cell_type": "code",
   "execution_count": 56,
   "metadata": {},
   "outputs": [
    {
     "name": "stdout",
     "output_type": "stream",
     "text": [
      "Epoch 1/100\n",
      "28/28 [==============================] - 6s 72ms/step - loss: 0.4570 - val_loss: 0.3550\n",
      "Epoch 2/100\n",
      "28/28 [==============================] - 1s 37ms/step - loss: 0.3462 - val_loss: 0.3391\n",
      "Epoch 3/100\n",
      "28/28 [==============================] - 1s 38ms/step - loss: 0.3102 - val_loss: 0.3013\n",
      "Epoch 4/100\n",
      "28/28 [==============================] - 1s 36ms/step - loss: 0.2825 - val_loss: 0.2888\n",
      "Epoch 5/100\n",
      "28/28 [==============================] - 1s 37ms/step - loss: 0.2589 - val_loss: 0.2502\n",
      "Epoch 6/100\n",
      "28/28 [==============================] - 1s 36ms/step - loss: 0.2328 - val_loss: 0.2356\n",
      "Epoch 7/100\n",
      "28/28 [==============================] - 1s 35ms/step - loss: 0.2073 - val_loss: 0.2152\n",
      "Epoch 8/100\n",
      "28/28 [==============================] - 1s 37ms/step - loss: 0.1885 - val_loss: 0.1828\n",
      "Epoch 9/100\n",
      "28/28 [==============================] - 1s 37ms/step - loss: 0.1700 - val_loss: 0.1721\n",
      "Epoch 10/100\n",
      "28/28 [==============================] - 1s 36ms/step - loss: 0.1513 - val_loss: 0.1524\n",
      "Epoch 11/100\n",
      "28/28 [==============================] - 1s 36ms/step - loss: 0.1350 - val_loss: 0.1397\n",
      "Epoch 12/100\n",
      "28/28 [==============================] - 1s 41ms/step - loss: 0.1225 - val_loss: 0.1268\n",
      "Epoch 13/100\n",
      "28/28 [==============================] - 1s 35ms/step - loss: 0.1099 - val_loss: 0.1085\n",
      "Epoch 14/100\n",
      "28/28 [==============================] - 1s 35ms/step - loss: 0.0973 - val_loss: 0.0970\n",
      "Epoch 15/100\n",
      "28/28 [==============================] - 1s 35ms/step - loss: 0.0872 - val_loss: 0.0876\n",
      "Epoch 16/100\n",
      "28/28 [==============================] - 1s 36ms/step - loss: 0.0762 - val_loss: 0.0777\n",
      "Epoch 17/100\n",
      "28/28 [==============================] - 1s 36ms/step - loss: 0.0668 - val_loss: 0.0717\n",
      "Epoch 18/100\n",
      "28/28 [==============================] - 1s 35ms/step - loss: 0.0600 - val_loss: 0.0708\n",
      "Epoch 19/100\n",
      "28/28 [==============================] - 1s 34ms/step - loss: 0.0516 - val_loss: 0.0625\n",
      "Epoch 20/100\n",
      "28/28 [==============================] - 1s 39ms/step - loss: 0.0463 - val_loss: 0.0649\n",
      "Epoch 21/100\n",
      "28/28 [==============================] - 1s 37ms/step - loss: 0.0428 - val_loss: 0.0302\n",
      "Epoch 22/100\n",
      "28/28 [==============================] - 1s 35ms/step - loss: 0.0371 - val_loss: 0.0737\n",
      "Epoch 23/100\n",
      "28/28 [==============================] - 1s 35ms/step - loss: 0.0358 - val_loss: 0.0453\n",
      "Epoch 24/100\n",
      "28/28 [==============================] - 1s 35ms/step - loss: 0.0303 - val_loss: 0.0192\n",
      "Epoch 25/100\n",
      "28/28 [==============================] - 1s 37ms/step - loss: 0.0264 - val_loss: 0.0271\n",
      "Epoch 26/100\n",
      "28/28 [==============================] - 1s 36ms/step - loss: 0.0237 - val_loss: 0.0164\n",
      "Epoch 27/100\n",
      "28/28 [==============================] - 1s 36ms/step - loss: 0.0210 - val_loss: 0.0122\n",
      "Epoch 28/100\n",
      "28/28 [==============================] - 1s 36ms/step - loss: 0.0210 - val_loss: 0.0145\n",
      "Epoch 29/100\n",
      "28/28 [==============================] - 1s 35ms/step - loss: 0.0225 - val_loss: 0.0022\n",
      "Epoch 30/100\n",
      "28/28 [==============================] - 1s 37ms/step - loss: 0.0188 - val_loss: 0.0114\n",
      "Epoch 31/100\n",
      "28/28 [==============================] - 1s 36ms/step - loss: 0.0155 - val_loss: 0.0082\n",
      "Epoch 32/100\n",
      "28/28 [==============================] - 1s 35ms/step - loss: 0.0140 - val_loss: 0.0091\n",
      "Epoch 33/100\n",
      "28/28 [==============================] - 1s 37ms/step - loss: 0.0134 - val_loss: 0.0086\n",
      "Epoch 34/100\n",
      "28/28 [==============================] - 1s 35ms/step - loss: 0.0108 - val_loss: 0.0040\n",
      "Epoch 35/100\n",
      "28/28 [==============================] - 1s 35ms/step - loss: 0.0127 - val_loss: 0.0020\n",
      "Epoch 36/100\n",
      "28/28 [==============================] - 1s 35ms/step - loss: 0.0116 - val_loss: 0.0017\n",
      "Epoch 37/100\n",
      "28/28 [==============================] - 1s 36ms/step - loss: 0.0127 - val_loss: 0.0020\n",
      "Epoch 38/100\n",
      "28/28 [==============================] - 1s 35ms/step - loss: 0.0117 - val_loss: 0.0066\n",
      "Epoch 39/100\n",
      "28/28 [==============================] - 1s 35ms/step - loss: 0.0114 - val_loss: 0.0085\n",
      "Epoch 40/100\n",
      "28/28 [==============================] - 1s 36ms/step - loss: 0.0099 - val_loss: 0.0036\n",
      "Epoch 41/100\n",
      "28/28 [==============================] - 1s 40ms/step - loss: 0.0101 - val_loss: 0.0034\n",
      "Epoch 42/100\n",
      "28/28 [==============================] - 1s 36ms/step - loss: 0.0116 - val_loss: 0.0018\n",
      "Epoch 43/100\n",
      "28/28 [==============================] - 1s 36ms/step - loss: 0.0089 - val_loss: 0.0179\n",
      "Epoch 44/100\n",
      "28/28 [==============================] - 1s 35ms/step - loss: 0.0111 - val_loss: 0.0023\n",
      "Epoch 45/100\n",
      "28/28 [==============================] - 1s 37ms/step - loss: 0.0127 - val_loss: 0.0123\n",
      "Epoch 46/100\n",
      "28/28 [==============================] - 1s 36ms/step - loss: 0.0108 - val_loss: 0.0079\n",
      "Epoch 47/100\n",
      "28/28 [==============================] - 1s 35ms/step - loss: 0.0094 - val_loss: 0.0049\n",
      "Epoch 48/100\n",
      "28/28 [==============================] - 1s 35ms/step - loss: 0.0115 - val_loss: 0.0155\n",
      "Epoch 49/100\n",
      "28/28 [==============================] - 1s 36ms/step - loss: 0.0118 - val_loss: 0.0045\n",
      "Epoch 50/100\n",
      "28/28 [==============================] - 1s 37ms/step - loss: 0.0079 - val_loss: 0.0062\n",
      "Epoch 51/100\n",
      "28/28 [==============================] - 1s 36ms/step - loss: 0.0111 - val_loss: 0.0038\n",
      "Epoch 52/100\n",
      "28/28 [==============================] - 1s 38ms/step - loss: 0.0111 - val_loss: 0.0042\n",
      "Epoch 53/100\n",
      "28/28 [==============================] - 1s 35ms/step - loss: 0.0077 - val_loss: 0.0128\n",
      "Epoch 54/100\n",
      "28/28 [==============================] - 1s 37ms/step - loss: 0.0099 - val_loss: 0.0021\n",
      "Epoch 55/100\n",
      "28/28 [==============================] - 1s 36ms/step - loss: 0.0096 - val_loss: 0.0190\n",
      "Epoch 56/100\n",
      "28/28 [==============================] - 1s 36ms/step - loss: 0.0123 - val_loss: 0.0052\n",
      "Epoch 57/100\n",
      "28/28 [==============================] - 1s 38ms/step - loss: 0.0110 - val_loss: 0.0049\n",
      "Epoch 58/100\n",
      "28/28 [==============================] - 1s 37ms/step - loss: 0.0100 - val_loss: 0.0026\n",
      "Epoch 59/100\n",
      "28/28 [==============================] - 1s 36ms/step - loss: 0.0118 - val_loss: 0.0030\n",
      "Epoch 60/100\n",
      "28/28 [==============================] - 1s 35ms/step - loss: 0.0107 - val_loss: 0.0058\n",
      "Epoch 61/100\n",
      "28/28 [==============================] - 1s 38ms/step - loss: 0.0119 - val_loss: 0.0036\n",
      "Epoch 62/100\n",
      "28/28 [==============================] - 1s 43ms/step - loss: 0.0101 - val_loss: 0.0021\n",
      "Epoch 63/100\n",
      "28/28 [==============================] - 1s 38ms/step - loss: 0.0097 - val_loss: 0.0018\n",
      "Epoch 64/100\n",
      "28/28 [==============================] - 1s 39ms/step - loss: 0.0085 - val_loss: 0.0074\n",
      "Epoch 65/100\n",
      "28/28 [==============================] - 1s 38ms/step - loss: 0.0114 - val_loss: 0.0107\n",
      "Epoch 66/100\n",
      "28/28 [==============================] - 1s 40ms/step - loss: 0.0100 - val_loss: 0.0050\n",
      "Epoch 67/100\n",
      "28/28 [==============================] - 1s 51ms/step - loss: 0.0107 - val_loss: 0.0051\n",
      "Epoch 68/100\n",
      "28/28 [==============================] - 1s 49ms/step - loss: 0.0098 - val_loss: 0.0129\n",
      "Epoch 69/100\n",
      "28/28 [==============================] - 2s 57ms/step - loss: 0.0119 - val_loss: 0.0013\n",
      "Epoch 70/100\n",
      "28/28 [==============================] - 1s 44ms/step - loss: 0.0088 - val_loss: 0.0013\n",
      "Epoch 71/100\n",
      "28/28 [==============================] - 1s 44ms/step - loss: 0.0116 - val_loss: 0.0026\n",
      "Epoch 72/100\n",
      "28/28 [==============================] - 1s 44ms/step - loss: 0.0116 - val_loss: 0.0040\n",
      "Epoch 73/100\n",
      "28/28 [==============================] - 1s 45ms/step - loss: 0.0119 - val_loss: 0.0032\n",
      "Epoch 74/100\n",
      "28/28 [==============================] - 1s 47ms/step - loss: 0.0084 - val_loss: 0.0030\n",
      "Epoch 75/100\n",
      "28/28 [==============================] - 1s 44ms/step - loss: 0.0104 - val_loss: 0.0033\n",
      "Epoch 76/100\n",
      "28/28 [==============================] - 1s 45ms/step - loss: 0.0082 - val_loss: 0.0036\n",
      "Epoch 77/100\n",
      "28/28 [==============================] - 1s 45ms/step - loss: 0.0088 - val_loss: 0.0023\n",
      "Epoch 78/100\n",
      "28/28 [==============================] - 1s 46ms/step - loss: 0.0092 - val_loss: 0.0074\n",
      "Epoch 79/100\n",
      "28/28 [==============================] - 2s 58ms/step - loss: 0.0108 - val_loss: 0.0018\n",
      "Epoch 80/100\n",
      "28/28 [==============================] - 1s 44ms/step - loss: 0.0099 - val_loss: 0.0139\n",
      "Epoch 81/100\n",
      "28/28 [==============================] - 1s 42ms/step - loss: 0.0100 - val_loss: 0.0101\n",
      "Epoch 82/100\n",
      "28/28 [==============================] - 1s 41ms/step - loss: 0.0105 - val_loss: 0.0016\n",
      "Epoch 83/100\n",
      "28/28 [==============================] - 1s 42ms/step - loss: 0.0087 - val_loss: 0.0029\n",
      "Epoch 84/100\n",
      "28/28 [==============================] - 1s 42ms/step - loss: 0.0118 - val_loss: 0.0026\n",
      "Epoch 85/100\n",
      "28/28 [==============================] - 1s 41ms/step - loss: 0.0095 - val_loss: 0.0027\n",
      "Epoch 86/100\n",
      "28/28 [==============================] - 1s 42ms/step - loss: 0.0095 - val_loss: 0.0048\n",
      "Epoch 87/100\n",
      "28/28 [==============================] - 1s 43ms/step - loss: 0.0115 - val_loss: 0.0048\n",
      "Epoch 88/100\n",
      "28/28 [==============================] - 1s 44ms/step - loss: 0.0082 - val_loss: 0.0031\n",
      "Epoch 89/100\n",
      "28/28 [==============================] - 1s 41ms/step - loss: 0.0105 - val_loss: 0.0028\n",
      "Epoch 90/100\n",
      "28/28 [==============================] - 1s 39ms/step - loss: 0.0088 - val_loss: 0.0045\n",
      "Epoch 91/100\n",
      "28/28 [==============================] - 1s 42ms/step - loss: 0.0099 - val_loss: 0.0056\n",
      "Epoch 92/100\n",
      "28/28 [==============================] - 1s 40ms/step - loss: 0.0115 - val_loss: 0.0035\n",
      "Epoch 93/100\n",
      "28/28 [==============================] - 1s 41ms/step - loss: 0.0098 - val_loss: 0.0105\n",
      "Epoch 94/100\n",
      "28/28 [==============================] - 1s 40ms/step - loss: 0.0128 - val_loss: 0.0029\n",
      "Epoch 95/100\n",
      "28/28 [==============================] - 1s 41ms/step - loss: 0.0104 - val_loss: 0.0043\n",
      "Epoch 96/100\n",
      "28/28 [==============================] - 1s 40ms/step - loss: 0.0116 - val_loss: 0.0050\n",
      "Epoch 97/100\n",
      "28/28 [==============================] - 1s 40ms/step - loss: 0.0115 - val_loss: 0.0037\n",
      "Epoch 98/100\n",
      "28/28 [==============================] - 1s 42ms/step - loss: 0.0104 - val_loss: 0.0030\n",
      "Epoch 99/100\n",
      "28/28 [==============================] - 1s 41ms/step - loss: 0.0090 - val_loss: 0.0036\n",
      "Epoch 100/100\n",
      "28/28 [==============================] - 1s 49ms/step - loss: 0.0085 - val_loss: 0.0047\n"
     ]
    }
   ],
   "source": [
    "# Assuming X_train and y_train are already defined and preprocessed\n",
    "history = model.fit(X_train, y_train, epochs=100, batch_size=25, validation_split=0.2)\n",
    "\n",
    "# The validation_split parameter reserves a portion of the training data for validation, \n",
    "# allowing us to monitor the model's performance on unseen data during training."
   ]
  },
  {
   "cell_type": "markdown",
   "metadata": {},
   "source": [
    "#### Avoiding Overfitting"
   ]
  },
  {
   "cell_type": "markdown",
   "metadata": {},
   "source": [
    "##### Overfitting occurs when a model learns patterns specific to the training data, which do not generalize to new data. Here are ways to avoid overfitting:\n",
    "\n",
    "###### 1. Validation Set: Using a validation set (as we did in the training code) helps in monitoring the model’s performance on unseen data.\n",
    "###### 2. Early Stopping: This technique stops training when the model’s performance on the validation set starts to degrade. Implementing early stopping in Keras is straightforward:"
   ]
  },
  {
   "cell_type": "code",
   "execution_count": 57,
   "metadata": {},
   "outputs": [
    {
     "name": "stdout",
     "output_type": "stream",
     "text": [
      "Epoch 1/100\n",
      "28/28 [==============================] - 1s 42ms/step - loss: 0.0087 - val_loss: 0.0017\n",
      "Epoch 2/100\n",
      "28/28 [==============================] - 1s 42ms/step - loss: 0.0094 - val_loss: 0.0028\n",
      "Epoch 3/100\n",
      "28/28 [==============================] - 1s 38ms/step - loss: 0.0106 - val_loss: 0.0118\n",
      "Epoch 4/100\n",
      "28/28 [==============================] - 1s 39ms/step - loss: 0.0103 - val_loss: 0.0021\n",
      "Epoch 5/100\n",
      "28/28 [==============================] - 1s 41ms/step - loss: 0.0091 - val_loss: 0.0024\n",
      "Epoch 6/100\n",
      "28/28 [==============================] - 1s 40ms/step - loss: 0.0104 - val_loss: 0.0024\n",
      "Epoch 7/100\n",
      "28/28 [==============================] - 1s 38ms/step - loss: 0.0092 - val_loss: 0.0073\n",
      "Epoch 8/100\n",
      "28/28 [==============================] - 1s 38ms/step - loss: 0.0086 - val_loss: 0.0051\n",
      "Epoch 9/100\n",
      "28/28 [==============================] - 1s 40ms/step - loss: 0.0095 - val_loss: 0.0032\n",
      "Epoch 10/100\n",
      "28/28 [==============================] - 1s 36ms/step - loss: 0.0105 - val_loss: 0.0047\n",
      "Epoch 11/100\n",
      "28/28 [==============================] - 1s 51ms/step - loss: 0.0103 - val_loss: 0.0036\n"
     ]
    }
   ],
   "source": [
    "from keras.callbacks import EarlyStopping\n",
    "\n",
    "early_stopping = EarlyStopping(monitor='val_loss', patience=10)\n",
    "history = model.fit(X_train, y_train, epochs=100, batch_size=25, validation_split=0.2, callbacks=[early_stopping])\n",
    "\n",
    "# Here, patience=10 means training will stop if the validation loss does not improve for 10 consecutive epochs.\n",
    "# Regularization Techniques: Techniques like Dropout and Batch Normalization, which are already included in our model,\n",
    "# also help in reducing overfitting."
   ]
  },
  {
   "cell_type": "markdown",
   "metadata": {},
   "source": [
    "##### Optional : These are more callbacks"
   ]
  },
  {
   "cell_type": "code",
   "execution_count": 58,
   "metadata": {},
   "outputs": [
    {
     "name": "stdout",
     "output_type": "stream",
     "text": [
      "Epoch 1/100\n",
      "28/28 [==============================] - 1s 46ms/step - loss: 0.0093 - val_loss: 0.0243 - lr: 0.0010\n",
      "Epoch 2/100\n",
      " 1/28 [>.............................] - ETA: 0s - loss: 0.0150"
     ]
    },
    {
     "name": "stderr",
     "output_type": "stream",
     "text": [
      "c:\\Users\\smara\\AppData\\Local\\Programs\\Python\\Python311\\Lib\\site-packages\\keras\\src\\engine\\training.py:3103: UserWarning: You are saving your model as an HDF5 file via `model.save()`. This file format is considered legacy. We recommend using instead the native Keras format, e.g. `model.save('my_model.keras')`.\n",
      "  saving_api.save_model(\n"
     ]
    },
    {
     "name": "stdout",
     "output_type": "stream",
     "text": [
      "28/28 [==============================] - 1s 43ms/step - loss: 0.0130 - val_loss: 0.0162 - lr: 0.0010\n",
      "Epoch 3/100\n",
      "28/28 [==============================] - 1s 41ms/step - loss: 0.0117 - val_loss: 0.0088 - lr: 0.0010\n",
      "Epoch 4/100\n",
      "28/28 [==============================] - 1s 40ms/step - loss: 0.0115 - val_loss: 0.0048 - lr: 0.0010\n",
      "Epoch 5/100\n",
      "28/28 [==============================] - 1s 39ms/step - loss: 0.0096 - val_loss: 0.0023 - lr: 0.0010\n",
      "Epoch 6/100\n",
      "28/28 [==============================] - 1s 49ms/step - loss: 0.0102 - val_loss: 0.0041 - lr: 0.0010\n",
      "Epoch 7/100\n",
      "28/28 [==============================] - 1s 41ms/step - loss: 0.0111 - val_loss: 0.0024 - lr: 0.0010\n",
      "Epoch 8/100\n",
      "28/28 [==============================] - 1s 41ms/step - loss: 0.0098 - val_loss: 0.0015 - lr: 0.0010\n",
      "Epoch 9/100\n",
      "28/28 [==============================] - 1s 41ms/step - loss: 0.0122 - val_loss: 0.0061 - lr: 0.0010\n",
      "Epoch 10/100\n",
      "28/28 [==============================] - 1s 44ms/step - loss: 0.0103 - val_loss: 0.0033 - lr: 0.0010\n",
      "Epoch 11/100\n",
      "28/28 [==============================] - 1s 40ms/step - loss: 0.0104 - val_loss: 0.0016 - lr: 0.0010\n",
      "Epoch 12/100\n",
      "28/28 [==============================] - 1s 39ms/step - loss: 0.0107 - val_loss: 0.0106 - lr: 0.0010\n",
      "Epoch 13/100\n",
      "28/28 [==============================] - 1s 41ms/step - loss: 0.0090 - val_loss: 0.0017 - lr: 0.0010\n",
      "Epoch 14/100\n",
      "28/28 [==============================] - 1s 40ms/step - loss: 0.0100 - val_loss: 0.0022 - lr: 1.0000e-04\n",
      "Epoch 15/100\n",
      "28/28 [==============================] - 1s 41ms/step - loss: 0.0103 - val_loss: 0.0024 - lr: 1.0000e-04\n",
      "Epoch 16/100\n",
      "28/28 [==============================] - 1s 39ms/step - loss: 0.0079 - val_loss: 0.0019 - lr: 1.0000e-04\n",
      "Epoch 17/100\n",
      "28/28 [==============================] - 1s 38ms/step - loss: 0.0077 - val_loss: 0.0017 - lr: 1.0000e-04\n",
      "Epoch 18/100\n",
      "28/28 [==============================] - 1s 38ms/step - loss: 0.0090 - val_loss: 0.0025 - lr: 1.0000e-04\n"
     ]
    }
   ],
   "source": [
    "from keras.callbacks import ModelCheckpoint, ReduceLROnPlateau, TensorBoard, CSVLogger\n",
    "\n",
    "# Callback to savee the model periodically\n",
    "model_checkpoint = ModelCheckpoint('best_model.h5', save_best_only=True, monitor='val_loss')\n",
    "\n",
    "# Callback to reduce learning rate when a metric has stopped improving\n",
    "reduce_lr = ReduceLROnPlateau(monitor='val_loss', factor=0.1, patience=5)\n",
    "\n",
    "# Callback for Tensorboard\n",
    "tensorboard = TensorBoard(log_dir='./logs')\n",
    "\n",
    "# Callback to log details to a CSV file\n",
    "csv_logger = CSVLogger('training_log.csv')\n",
    "\n",
    "# Combining all callbacks\n",
    "callbacks_list = [early_stopping, model_checkpoint, reduce_lr, tensorboard, csv_logger]\n",
    "\n",
    "# Fit the model with the callbacks\n",
    "history = model.fit(X_train, y_train, epochs=100, batch_size=25, validation_split=0.2, callbacks=callbacks_list)"
   ]
  },
  {
   "cell_type": "markdown",
   "metadata": {},
   "source": [
    "### Step 5 : Evaluating Model Performance "
   ]
  },
  {
   "cell_type": "markdown",
   "metadata": {},
   "source": [
    "#### Evaluating with the test set\n",
    "##### To evaluate the model, we first need to prepare our test data (X_test) in the same way we did for the training data. Then, we can use the model's evaluate function:"
   ]
  },
  {
   "cell_type": "code",
   "execution_count": 59,
   "metadata": {},
   "outputs": [
    {
     "name": "stdout",
     "output_type": "stream",
     "text": [
      "7/7 [==============================] - 0s 14ms/step - loss: 0.0024\n",
      "Test Loss: 0.002361977705731988\n"
     ]
    }
   ],
   "source": [
    "# Convert X_test and y_test to numpy arrays if they are not already\n",
    "X_test=np.array(X_test)\n",
    "y_test=np.array(y_test)\n",
    "\n",
    "# Ensure X_test is reshaped similarly to how X_train was reshaped\n",
    "# This depends on how you preprocessed the training data\n",
    "X_test = np.reshape(X_test, (X_test.shape[0], X_test.shape[1], 1))\n",
    "\n",
    "# Now evaluatee the model on the test data\n",
    "test_loss = model.evaluate(X_test, y_test)\n",
    "print(\"Test Loss:\", test_loss)"
   ]
  },
  {
   "cell_type": "markdown",
   "metadata": {},
   "source": [
    "#### Performance Metrics\n",
    "##### In addition to the loss, other metrics can provide more insights into the model’s performance. For regression tasks like ours, common metrics include:\n",
    "\n",
    "##### 1. Mean Absolute Error (MAE): This measures the average magnitude of the errors in a set of predictions, without considering their direction.\n",
    "##### 2. Root Mean Square Error (RMSE): This is the square root of the average of squared differences between prediction and actual observation."
   ]
  },
  {
   "cell_type": "code",
   "execution_count": 60,
   "metadata": {},
   "outputs": [
    {
     "name": "stdout",
     "output_type": "stream",
     "text": [
      "7/7 [==============================] - 1s 14ms/step\n",
      "Mean Absolute Error :  0.037392204493031274\n",
      "Root Mean Square Error :  0.04860018338706603\n"
     ]
    }
   ],
   "source": [
    "from sklearn.metrics import mean_absolute_error, mean_squared_error\n",
    "\n",
    "# Making Predictions\n",
    "y_pred = model.predict(X_test)\n",
    "\n",
    "# Calculating MAE and RMSE\n",
    "mae = mean_absolute_error(y_test, y_pred)\n",
    "rmse = mean_squared_error(y_test, y_pred, squared=False)\n",
    "\n",
    "print(\"Mean Absolute Error : \", mae)\n",
    "print(\"Root Mean Square Error : \", rmse)"
   ]
  },
  {
   "cell_type": "markdown",
   "metadata": {},
   "source": [
    "##### A MAE of 0.0433 means that, on average, the model’s predictions are about 0.0433 units away from the actual values.\n",
    "##### An RMSE of 0.0644 means that the model’s predictions are, on average, 0.0644 units away from the actual values when larger errors are penalized more."
   ]
  },
  {
   "cell_type": "markdown",
   "metadata": {},
   "source": [
    "### Step 6 : Predicting the next 4 candles(days) of AAPL stock prices\n"
   ]
  },
  {
   "cell_type": "code",
   "execution_count": 61,
   "metadata": {},
   "outputs": [
    {
     "name": "stderr",
     "output_type": "stream",
     "text": [
      "[*********************100%%**********************]  1 of 1 completed"
     ]
    },
    {
     "name": "stdout",
     "output_type": "stream",
     "text": [
      "1/1 [==============================] - 0s 31ms/step\n",
      "Predicted Stock Prices for the next 4 days:  [[197.29509]]\n"
     ]
    },
    {
     "name": "stderr",
     "output_type": "stream",
     "text": [
      "\n"
     ]
    }
   ],
   "source": [
    "# Fetching the latest 90 days of AAPL stock data\n",
    "data = yf.download('AAPL', period='3mo', interval='1d')\n",
    "\n",
    "# Selecting the 'Close' price and converting to numpy array\n",
    "closing_prices = data['Close'].values\n",
    "\n",
    "# Scaling the data\n",
    "scaler = MinMaxScaler(feature_range=(0,1))\n",
    "scaled_data = scaler.fit_transform(closing_prices.reshape(-1,1))\n",
    "\n",
    "# Since we need the last 60 days (2 months) to predict the next day, we reshape the data accordingly\n",
    "X_latest = np.array([scaled_data[-60:].reshape(60)])\n",
    "\n",
    "# Reshaping the data for the model (adding batch dimension)\n",
    "X_latest = np.reshape(X_latest, (X_latest.shape[0], X_latest.shape[1], 1))\n",
    "\n",
    "# Making predictions for the next 4 candles\n",
    "predicted_stock_price = model.predict(X_latest)\n",
    "predicted_stock_price = scaler.inverse_transform(predicted_stock_price)\n",
    "\n",
    "print(\"Predicted Stock Prices for the next 4 days: \", predicted_stock_price)"
   ]
  },
  {
   "cell_type": "markdown",
   "metadata": {},
   "source": [
    "#### Predicting the price for the next 4 days"
   ]
  },
  {
   "cell_type": "code",
   "execution_count": 62,
   "metadata": {},
   "outputs": [
    {
     "name": "stderr",
     "output_type": "stream",
     "text": [
      "[*********************100%%**********************]  1 of 1 completed"
     ]
    },
    {
     "name": "stdout",
     "output_type": "stream",
     "text": [
      "1/1 [==============================] - 0s 30ms/step\n"
     ]
    },
    {
     "name": "stderr",
     "output_type": "stream",
     "text": [
      "\n"
     ]
    },
    {
     "name": "stdout",
     "output_type": "stream",
     "text": [
      "1/1 [==============================] - 0s 29ms/step\n",
      "1/1 [==============================] - 0s 31ms/step\n",
      "1/1 [==============================] - 0s 29ms/step\n",
      "Predicted Stock Prices for the next 4 days:  [197.29509, 198.75926, 199.10533, 198.8266]\n"
     ]
    }
   ],
   "source": [
    "# Fetch the latest 60 days of AAPL stock data\n",
    "data = yf.download('AAPL', period='3mo', interval='1d')\n",
    "\n",
    "# Select 'Close' price and scale it\n",
    "closing_prices = data['Close'].values.reshape(-1, 1)\n",
    "scaler = MinMaxScaler(feature_range=(0, 1))\n",
    "scaled_data = scaler.fit_transform(closing_prices)\n",
    "\n",
    "# Predict the next 4 days iteratively\n",
    "predicted_prices = []\n",
    "current_batch = scaled_data[-60:].reshape(1, 60, 1)  # Most recent 60 days\n",
    "\n",
    "for i in range(4):  # Predicting 4 days\n",
    "    # Get the prediction (next day)\n",
    "    next_prediction = model.predict(current_batch)\n",
    "    \n",
    "    # Reshape the prediction to fit the batch dimension\n",
    "    next_prediction_reshaped = next_prediction.reshape(1, 1, 1)\n",
    "    \n",
    "    # Append the prediction to the batch used for predicting\n",
    "    current_batch = np.append(current_batch[:, 1:, :], next_prediction_reshaped, axis=1)\n",
    "    \n",
    "    # Inverse transform the prediction to the original price scale\n",
    "    predicted_prices.append(scaler.inverse_transform(next_prediction)[0, 0])\n",
    "\n",
    "print(\"Predicted Stock Prices for the next 4 days: \", predicted_prices)"
   ]
  },
  {
   "cell_type": "markdown",
   "metadata": {},
   "source": [
    "#### Visualization of Predictions"
   ]
  },
  {
   "cell_type": "code",
   "execution_count": 63,
   "metadata": {},
   "outputs": [],
   "source": [
    "import mplfinance as mpf\n",
    "import matplotlib.dates as mpl_dates\n",
    "import matplotlib.pyplot as plt"
   ]
  },
  {
   "cell_type": "code",
   "execution_count": 64,
   "metadata": {},
   "outputs": [
    {
     "data": {
      "image/png": "[encoded data removed]",
      "text/plain": [
       "<Figure size 800x575 with 4 Axes>"
      ]
     },
     "metadata": {},
     "output_type": "display_data"
    },
    {
     "data": {
      "image/png": "[encoded data removed]",
      "text/plain": [
       "<Figure size 1000x600 with 1 Axes>"
      ]
     },
     "metadata": {},
     "output_type": "display_data"
    }
   ],
   "source": [
    "# Assuming 'data' is your DataFrame with the fetched AAPL stock data\n",
    "# Make sure it contains Open, High, Low, Close, and Volume columns\n",
    "\n",
    "# Creating a list of dates for the predictions\n",
    "last_date = data.index[-1]\n",
    "next_day = last_date + pd.Timedelta(days=1)\n",
    "prediction_dates = pd.date_range(start=next_day, periods=4)\n",
    "\n",
    "# Assuming 'predicted_prices' is your list of predicted prices for the next 4 days\n",
    "predictions_df = pd.DataFrame(index=prediction_dates, data=predicted_prices, columns=['Close'])\n",
    "\n",
    "# Plotting the actual data with mplfinance\n",
    "mpf.plot(data, type='candle', style='charles', volume=True)\n",
    "\n",
    "# Overlaying the predicted data\n",
    "plt.figure(figsize=(10,6))\n",
    "plt.plot(predictions_df.index, predictions_df['Close'], linestyle='dashed', marker='o', color='red')\n",
    "\n",
    "plt.title(\"AAPL Stock Price with Predicted Next 4 Days\")\n",
    "plt.show()"
   ]
  },
  {
   "cell_type": "markdown",
   "metadata": {},
   "source": [
    "#### Final Visual for Predictions"
   ]
  },
  {
   "cell_type": "code",
   "execution_count": 65,
   "metadata": {},
   "outputs": [
    {
     "name": "stderr",
     "output_type": "stream",
     "text": [
      "[*********************100%%**********************]  1 of 1 completed"
     ]
    },
    {
     "name": "stdout",
     "output_type": "stream",
     "text": [
      "1/1 [==============================] - 0s 32ms/step\n",
      "1/1 [==============================] - ETA: 0s"
     ]
    },
    {
     "name": "stderr",
     "output_type": "stream",
     "text": [
      "\n"
     ]
    },
    {
     "name": "stdout",
     "output_type": "stream",
     "text": [
      "1/1 [==============================] - 0s 31ms/step\n",
      "1/1 [==============================] - 0s 27ms/step\n",
      "1/1 [==============================] - 0s 28ms/step\n"
     ]
    },
    {
     "data": {
      "image/png": "[encoded data removed]",
      "text/plain": [
       "<Figure size 1000x600 with 1 Axes>"
      ]
     },
     "metadata": {},
     "output_type": "display_data"
    }
   ],
   "source": [
    "# Fetch the latest 60 days of AAPL stock data\n",
    "data = yf.download('AAPL', period='3mo', interval='1d') # Fetch 64 days to display last 60 days in the chart\n",
    "\n",
    "# Select 'Close' price and scale it\n",
    "closing_prices = data['Close'].values.reshape(-1, 1)\n",
    "scaler = MinMaxScaler(feature_range=(0, 1))\n",
    "scaled_data = scaler.fit_transform(closing_prices)\n",
    "\n",
    "# Predict the next 4 days iteratively\n",
    "predicted_prices = []\n",
    "current_batch = scaled_data[-60:].reshape(1, 60, 1)  # Most recent 60 days\n",
    "\n",
    "for i in range(4):  # Predicting 4 days\n",
    "    next_prediction = model.predict(current_batch)\n",
    "    next_prediction_reshaped = next_prediction.reshape(1, 1, 1)\n",
    "    current_batch = np.append(current_batch[:, 1:, :], next_prediction_reshaped, axis=1)\n",
    "    predicted_prices.append(scaler.inverse_transform(next_prediction)[0, 0])\n",
    "\n",
    "# Creating a list of dates for the predictions\n",
    "last_date = data.index[-1]\n",
    "next_day = last_date + pd.Timedelta(days=1)\n",
    "prediction_dates = pd.date_range(start=next_day, periods=4)\n",
    "\n",
    "# Adding predictions to the DataFrame\n",
    "predicted_data = pd.DataFrame(index=prediction_dates, data=predicted_prices, columns=['Close'])\n",
    "\n",
    "# Combining both actual and predicted data\n",
    "combined_data = pd.concat([data['Close'], predicted_data['Close']])\n",
    "combined_data = combined_data[-64:] # Last 60 days of actual data + 4 days of predictions\n",
    "\n",
    "# Plotting the actual data\n",
    "plt.figure(figsize=(10,6))\n",
    "plt.plot(data.index[-60:], data['Close'][-60:], linestyle='-', marker='o', color='blue', label='Actual Data')\n",
    "\n",
    "# Plotting the predicted data\n",
    "plt.plot(prediction_dates, predicted_prices, linestyle='-', marker='o', color='red', label='Predicted Data')\n",
    "\n",
    "plt.title(\"AAPL Stock Price: Last 60 Days and Next 4 Days Predicted\")\n",
    "plt.xlabel('Date')\n",
    "plt.ylabel('Price')\n",
    "plt.legend()\n",
    "plt.show()"
   ]
  }
 ],
 "metadata": {
  "kernelspec": {
   "display_name": "Python 3",
   "language": "python",
   "name": "python3"
  },
  "language_info": {
   "codemirror_mode": {
    "name": "ipython",
    "version": 3
   },
   "file_extension": ".py",
   "mimetype": "text/x-python",
   "name": "python",
   "nbconvert_exporter": "python",
   "pygments_lexer": "ipython3",
   "version": "3.11.3"
  }
 },
 "nbformat": 4,
 "nbformat_minor": 2
}
